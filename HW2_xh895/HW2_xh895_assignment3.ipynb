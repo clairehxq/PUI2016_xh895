{
 "cells": [
  {
   "cell_type": "code",
   "execution_count": 98,
   "metadata": {
    "collapsed": false
   },
   "outputs": [
    {
     "data": {
      "text/plain": [
       "'/gws/open/NYCOpenData/nycopendata/data'"
      ]
     },
     "execution_count": 98,
     "metadata": {},
     "output_type": "execute_result"
    }
   ],
   "source": [
    "import os\n",
    "DFDATA = os.getenv(\"DFDATA\")\n",
    "DFDATA"
   ]
  },
  {
   "cell_type": "code",
   "execution_count": 99,
   "metadata": {
    "collapsed": false
   },
   "outputs": [
    {
     "data": {
      "text/html": [
       "<div>\n",
       "<table border=\"1\" class=\"dataframe\">\n",
       "  <thead>\n",
       "    <tr style=\"text-align: right;\">\n",
       "      <th></th>\n",
       "      <th>JURISDICTION NAME</th>\n",
       "      <th>COUNT PARTICIPANTS</th>\n",
       "      <th>COUNT FEMALE</th>\n",
       "      <th>PERCENT FEMALE</th>\n",
       "      <th>COUNT MALE</th>\n",
       "      <th>PERCENT MALE</th>\n",
       "      <th>COUNT GENDER UNKNOWN</th>\n",
       "      <th>PERCENT GENDER UNKNOWN</th>\n",
       "      <th>COUNT GENDER TOTAL</th>\n",
       "      <th>PERCENT GENDER TOTAL</th>\n",
       "      <th>...</th>\n",
       "      <th>COUNT CITIZEN STATUS TOTAL</th>\n",
       "      <th>PERCENT CITIZEN STATUS TOTAL</th>\n",
       "      <th>COUNT RECEIVES PUBLIC ASSISTANCE</th>\n",
       "      <th>PERCENT RECEIVES PUBLIC ASSISTANCE</th>\n",
       "      <th>COUNT NRECEIVES PUBLIC ASSISTANCE</th>\n",
       "      <th>PERCENT NRECEIVES PUBLIC ASSISTANCE</th>\n",
       "      <th>COUNT PUBLIC ASSISTANCE UNKNOWN</th>\n",
       "      <th>PERCENT PUBLIC ASSISTANCE UNKNOWN</th>\n",
       "      <th>COUNT PUBLIC ASSISTANCE TOTAL</th>\n",
       "      <th>PERCENT PUBLIC ASSISTANCE TOTAL</th>\n",
       "    </tr>\n",
       "  </thead>\n",
       "  <tbody>\n",
       "    <tr>\n",
       "      <th>0</th>\n",
       "      <td>10001</td>\n",
       "      <td>44</td>\n",
       "      <td>22</td>\n",
       "      <td>0.50</td>\n",
       "      <td>22</td>\n",
       "      <td>0.50</td>\n",
       "      <td>0</td>\n",
       "      <td>0</td>\n",
       "      <td>44</td>\n",
       "      <td>100</td>\n",
       "      <td>...</td>\n",
       "      <td>44</td>\n",
       "      <td>100</td>\n",
       "      <td>20</td>\n",
       "      <td>0.45</td>\n",
       "      <td>24</td>\n",
       "      <td>0.55</td>\n",
       "      <td>0</td>\n",
       "      <td>0</td>\n",
       "      <td>44</td>\n",
       "      <td>100</td>\n",
       "    </tr>\n",
       "    <tr>\n",
       "      <th>1</th>\n",
       "      <td>10002</td>\n",
       "      <td>35</td>\n",
       "      <td>19</td>\n",
       "      <td>0.54</td>\n",
       "      <td>16</td>\n",
       "      <td>0.46</td>\n",
       "      <td>0</td>\n",
       "      <td>0</td>\n",
       "      <td>35</td>\n",
       "      <td>100</td>\n",
       "      <td>...</td>\n",
       "      <td>35</td>\n",
       "      <td>100</td>\n",
       "      <td>2</td>\n",
       "      <td>0.06</td>\n",
       "      <td>33</td>\n",
       "      <td>0.94</td>\n",
       "      <td>0</td>\n",
       "      <td>0</td>\n",
       "      <td>35</td>\n",
       "      <td>100</td>\n",
       "    </tr>\n",
       "    <tr>\n",
       "      <th>2</th>\n",
       "      <td>10003</td>\n",
       "      <td>1</td>\n",
       "      <td>1</td>\n",
       "      <td>1.00</td>\n",
       "      <td>0</td>\n",
       "      <td>0.00</td>\n",
       "      <td>0</td>\n",
       "      <td>0</td>\n",
       "      <td>1</td>\n",
       "      <td>100</td>\n",
       "      <td>...</td>\n",
       "      <td>1</td>\n",
       "      <td>100</td>\n",
       "      <td>0</td>\n",
       "      <td>0.00</td>\n",
       "      <td>1</td>\n",
       "      <td>1.00</td>\n",
       "      <td>0</td>\n",
       "      <td>0</td>\n",
       "      <td>1</td>\n",
       "      <td>100</td>\n",
       "    </tr>\n",
       "    <tr>\n",
       "      <th>3</th>\n",
       "      <td>10004</td>\n",
       "      <td>0</td>\n",
       "      <td>0</td>\n",
       "      <td>0.00</td>\n",
       "      <td>0</td>\n",
       "      <td>0.00</td>\n",
       "      <td>0</td>\n",
       "      <td>0</td>\n",
       "      <td>0</td>\n",
       "      <td>0</td>\n",
       "      <td>...</td>\n",
       "      <td>0</td>\n",
       "      <td>0</td>\n",
       "      <td>0</td>\n",
       "      <td>0.00</td>\n",
       "      <td>0</td>\n",
       "      <td>0.00</td>\n",
       "      <td>0</td>\n",
       "      <td>0</td>\n",
       "      <td>0</td>\n",
       "      <td>0</td>\n",
       "    </tr>\n",
       "    <tr>\n",
       "      <th>4</th>\n",
       "      <td>10005</td>\n",
       "      <td>2</td>\n",
       "      <td>2</td>\n",
       "      <td>1.00</td>\n",
       "      <td>0</td>\n",
       "      <td>0.00</td>\n",
       "      <td>0</td>\n",
       "      <td>0</td>\n",
       "      <td>2</td>\n",
       "      <td>100</td>\n",
       "      <td>...</td>\n",
       "      <td>2</td>\n",
       "      <td>100</td>\n",
       "      <td>0</td>\n",
       "      <td>0.00</td>\n",
       "      <td>2</td>\n",
       "      <td>1.00</td>\n",
       "      <td>0</td>\n",
       "      <td>0</td>\n",
       "      <td>2</td>\n",
       "      <td>100</td>\n",
       "    </tr>\n",
       "  </tbody>\n",
       "</table>\n",
       "<p>5 rows × 46 columns</p>\n",
       "</div>"
      ],
      "text/plain": [
       "   JURISDICTION NAME  COUNT PARTICIPANTS  COUNT FEMALE  PERCENT FEMALE  \\\n",
       "0              10001                  44            22            0.50   \n",
       "1              10002                  35            19            0.54   \n",
       "2              10003                   1             1            1.00   \n",
       "3              10004                   0             0            0.00   \n",
       "4              10005                   2             2            1.00   \n",
       "\n",
       "   COUNT MALE  PERCENT MALE  COUNT GENDER UNKNOWN  PERCENT GENDER UNKNOWN  \\\n",
       "0          22          0.50                     0                       0   \n",
       "1          16          0.46                     0                       0   \n",
       "2           0          0.00                     0                       0   \n",
       "3           0          0.00                     0                       0   \n",
       "4           0          0.00                     0                       0   \n",
       "\n",
       "   COUNT GENDER TOTAL  PERCENT GENDER TOTAL               ...                 \\\n",
       "0                  44                   100               ...                  \n",
       "1                  35                   100               ...                  \n",
       "2                   1                   100               ...                  \n",
       "3                   0                     0               ...                  \n",
       "4                   2                   100               ...                  \n",
       "\n",
       "   COUNT CITIZEN STATUS TOTAL  PERCENT CITIZEN STATUS TOTAL  \\\n",
       "0                          44                           100   \n",
       "1                          35                           100   \n",
       "2                           1                           100   \n",
       "3                           0                             0   \n",
       "4                           2                           100   \n",
       "\n",
       "   COUNT RECEIVES PUBLIC ASSISTANCE  PERCENT RECEIVES PUBLIC ASSISTANCE  \\\n",
       "0                                20                                0.45   \n",
       "1                                 2                                0.06   \n",
       "2                                 0                                0.00   \n",
       "3                                 0                                0.00   \n",
       "4                                 0                                0.00   \n",
       "\n",
       "   COUNT NRECEIVES PUBLIC ASSISTANCE  PERCENT NRECEIVES PUBLIC ASSISTANCE  \\\n",
       "0                                 24                                 0.55   \n",
       "1                                 33                                 0.94   \n",
       "2                                  1                                 1.00   \n",
       "3                                  0                                 0.00   \n",
       "4                                  2                                 1.00   \n",
       "\n",
       "   COUNT PUBLIC ASSISTANCE UNKNOWN  PERCENT PUBLIC ASSISTANCE UNKNOWN  \\\n",
       "0                                0                                  0   \n",
       "1                                0                                  0   \n",
       "2                                0                                  0   \n",
       "3                                0                                  0   \n",
       "4                                0                                  0   \n",
       "\n",
       "   COUNT PUBLIC ASSISTANCE TOTAL  PERCENT PUBLIC ASSISTANCE TOTAL  \n",
       "0                             44                              100  \n",
       "1                             35                              100  \n",
       "2                              1                              100  \n",
       "3                              0                                0  \n",
       "4                              2                              100  \n",
       "\n",
       "[5 rows x 46 columns]"
      ]
     },
     "execution_count": 99,
     "metadata": {},
     "output_type": "execute_result"
    }
   ],
   "source": [
    "import pandas as pd\n",
    "DF = pd.read_csv(DFDATA + \"/kku6-nxdu/1414245945/kku6-nxdu\")\n",
    "DF = pd.DataFrame(DF)\n",
    "DF.head()"
   ]
  },
  {
   "cell_type": "code",
   "execution_count": 100,
   "metadata": {
    "collapsed": false
   },
   "outputs": [
    {
     "data": {
      "text/html": [
       "<div>\n",
       "<table border=\"1\" class=\"dataframe\">\n",
       "  <thead>\n",
       "    <tr style=\"text-align: right;\">\n",
       "      <th></th>\n",
       "      <th>JURISDICTION NAME</th>\n",
       "      <th>COUNT PARTICIPANTS</th>\n",
       "      <th>PERCENT PUBLIC ASSISTANCE TOTAL</th>\n",
       "    </tr>\n",
       "  </thead>\n",
       "  <tbody>\n",
       "    <tr>\n",
       "      <th>0</th>\n",
       "      <td>10001</td>\n",
       "      <td>44</td>\n",
       "      <td>100</td>\n",
       "    </tr>\n",
       "    <tr>\n",
       "      <th>1</th>\n",
       "      <td>10002</td>\n",
       "      <td>35</td>\n",
       "      <td>100</td>\n",
       "    </tr>\n",
       "    <tr>\n",
       "      <th>2</th>\n",
       "      <td>10003</td>\n",
       "      <td>1</td>\n",
       "      <td>100</td>\n",
       "    </tr>\n",
       "    <tr>\n",
       "      <th>3</th>\n",
       "      <td>10004</td>\n",
       "      <td>0</td>\n",
       "      <td>0</td>\n",
       "    </tr>\n",
       "    <tr>\n",
       "      <th>4</th>\n",
       "      <td>10005</td>\n",
       "      <td>2</td>\n",
       "      <td>100</td>\n",
       "    </tr>\n",
       "  </tbody>\n",
       "</table>\n",
       "</div>"
      ],
      "text/plain": [
       "   JURISDICTION NAME  COUNT PARTICIPANTS  PERCENT PUBLIC ASSISTANCE TOTAL\n",
       "0              10001                  44                              100\n",
       "1              10002                  35                              100\n",
       "2              10003                   1                              100\n",
       "3              10004                   0                                0\n",
       "4              10005                   2                              100"
      ]
     },
     "execution_count": 100,
     "metadata": {},
     "output_type": "execute_result"
    }
   ],
   "source": [
    "DF = DF.drop(DF.columns[range(2,45)], axis=1) \n",
    "DF.head()"
   ]
  },
  {
   "cell_type": "code",
   "execution_count": 101,
   "metadata": {
    "collapsed": false
   },
   "outputs": [
    {
     "data": {
      "text/html": [
       "<div>\n",
       "<table border=\"1\" class=\"dataframe\">\n",
       "  <thead>\n",
       "    <tr style=\"text-align: right;\">\n",
       "      <th></th>\n",
       "      <th>COUNT PARTICIPANTS</th>\n",
       "      <th>PERCENT PUBLIC ASSISTANCE TOTAL</th>\n",
       "    </tr>\n",
       "  </thead>\n",
       "  <tbody>\n",
       "    <tr>\n",
       "      <th>0</th>\n",
       "      <td>44</td>\n",
       "      <td>100</td>\n",
       "    </tr>\n",
       "    <tr>\n",
       "      <th>1</th>\n",
       "      <td>35</td>\n",
       "      <td>100</td>\n",
       "    </tr>\n",
       "    <tr>\n",
       "      <th>2</th>\n",
       "      <td>1</td>\n",
       "      <td>100</td>\n",
       "    </tr>\n",
       "    <tr>\n",
       "      <th>3</th>\n",
       "      <td>0</td>\n",
       "      <td>0</td>\n",
       "    </tr>\n",
       "    <tr>\n",
       "      <th>4</th>\n",
       "      <td>2</td>\n",
       "      <td>100</td>\n",
       "    </tr>\n",
       "  </tbody>\n",
       "</table>\n",
       "</div>"
      ],
      "text/plain": [
       "   COUNT PARTICIPANTS  PERCENT PUBLIC ASSISTANCE TOTAL\n",
       "0                  44                              100\n",
       "1                  35                              100\n",
       "2                   1                              100\n",
       "3                   0                                0\n",
       "4                   2                              100"
      ]
     },
     "execution_count": 101,
     "metadata": {},
     "output_type": "execute_result"
    }
   ],
   "source": [
    "DF = DF.drop(DF.columns[0], axis=1) \n",
    "DF.head()"
   ]
  },
  {
   "cell_type": "code",
   "execution_count": 102,
   "metadata": {
    "collapsed": false
   },
   "outputs": [
    {
     "name": "stdout",
     "output_type": "stream",
     "text": [
      "Populating the interactive namespace from numpy and matplotlib\n"
     ]
    },
    {
     "data": {
      "image/png": "[encoded data removed]",
      "text/plain": [
       "<matplotlib.figure.Figure at 0x7f8f4f2c2950>"
      ]
     },
     "metadata": {},
     "output_type": "display_data"
    }
   ],
   "source": [
    "import numpy as np\n",
    "%pylab inline\n",
    "import matplotlib.pyplot as plt\n",
    "\n",
    "\n",
    "plt.scatter(DF[['COUNT PARTICIPANTS']],DF[['PERCENT PUBLIC ASSISTANCE TOTAL']])\n",
    "plt.ylabel('PERCENT PUBLIC ASSISTANCE TOTAL')\n",
    "plt.xlabel('COUNT PARTICIPANTS')\n",
    "plt.title('Public Assistance data')   \n",
    "plt.show()\n",
    "\n"
   ]
  }
 ],
 "metadata": {
  "kernelspec": {
   "display_name": "PUI2016_Python2",
   "language": "python",
   "name": "pui2016_python2"
  },
  "language_info": {
   "codemirror_mode": {
    "name": "ipython",
    "version": 2
   },
   "file_extension": ".py",
   "mimetype": "text/x-python",
   "name": "python",
   "nbconvert_exporter": "python",
   "pygments_lexer": "ipython2",
   "version": "2.7.12"
  }
 },
 "nbformat": 4,
 "nbformat_minor": 0
}

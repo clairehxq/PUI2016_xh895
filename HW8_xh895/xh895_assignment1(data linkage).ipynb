{
 "cells": [
  {
   "cell_type": "code",
   "execution_count": 1,
   "metadata": {
    "collapsed": true
   },
   "outputs": [],
   "source": [
    "import os\n",
    "import pandas as pd\n",
    "import numpy as np\n",
    "#import re\n",
    "PUIdata = os.getenv('PUIDATA')"
   ]
  },
  {
   "cell_type": "code",
   "execution_count": 2,
   "metadata": {
    "collapsed": false
   },
   "outputs": [
    {
     "name": "stderr",
     "output_type": "stream",
     "text": [
      "/opt/rh/anaconda/root/envs/PUI2016_Python2/lib/python2.7/site-packages/IPython/core/interactiveshell.py:2717: DtypeWarning: Columns (8,17,39,40,47,48) have mixed types. Specify dtype option on import or set low_memory=False.\n",
      "  interactivity=interactivity, compiler=compiler, result=result)\n"
     ]
    }
   ],
   "source": [
    "data = pd.read_csv('/projects/open/NYCOpenData/nycopendata/data/erm2-nwe9/1446832678/erm2-nwe9')"
   ]
  },
  {
   "cell_type": "code",
   "execution_count": 3,
   "metadata": {
    "collapsed": false
   },
   "outputs": [
    {
     "data": {
      "text/plain": [
       "0          BROOKLYN\n",
       "1       Unspecified\n",
       "5     STATEN ISLAND\n",
       "7         MANHATTAN\n",
       "10            BRONX\n",
       "13           QUEENS\n",
       "Name: Borough, dtype: object"
      ]
     },
     "execution_count": 3,
     "metadata": {},
     "output_type": "execute_result"
    }
   ],
   "source": [
    "#1. borough numbers\n",
    "#community district\n",
    "data['Borough'].drop_duplicates()"
   ]
  },
  {
   "cell_type": "code",
   "execution_count": 4,
   "metadata": {
    "collapsed": false,
    "scrolled": true
   },
   "outputs": [
    {
     "name": "stdout",
     "output_type": "stream",
     "text": [
      "(77,)\n"
     ]
    }
   ],
   "source": [
    "CB = data['Community Board']\n",
    "print CB.drop_duplicates().shape\n",
    "#CB1 = CB.drop('Unspecified')"
   ]
  },
  {
   "cell_type": "code",
   "execution_count": 5,
   "metadata": {
    "collapsed": false
   },
   "outputs": [],
   "source": [
    "CB1 = CB.drop_duplicates()\n",
    "CB1 = CB1.reset_index()"
   ]
  },
  {
   "cell_type": "code",
   "execution_count": 6,
   "metadata": {
    "collapsed": false
   },
   "outputs": [],
   "source": [
    "number = []\n",
    "district = []\n",
    "for i in range(0,len(CB1)):\n",
    "    number.append(CB1.iloc[i,1].split(' ')[0])\n",
    "    district.append(CB1.iloc[i,1].split(' ')[1])"
   ]
  },
  {
   "cell_type": "code",
   "execution_count": 7,
   "metadata": {
    "collapsed": false
   },
   "outputs": [],
   "source": [
    "CB2 = pd.DataFrame([number, district]).T\n",
    "CB2 = CB2[CB2 != 'Unspecified']\n",
    "CB2 = CB2.dropna()"
   ]
  },
  {
   "cell_type": "code",
   "execution_count": 8,
   "metadata": {
    "collapsed": false
   },
   "outputs": [
    {
     "data": {
      "text/plain": [
       "(71, 2)"
      ]
     },
     "execution_count": 8,
     "metadata": {},
     "output_type": "execute_result"
    }
   ],
   "source": [
    "CB2.dropna().shape"
   ]
  },
  {
   "cell_type": "code",
   "execution_count": 9,
   "metadata": {
    "collapsed": false,
    "scrolled": true
   },
   "outputs": [],
   "source": [
    "#sort the data by occurance number\n",
    "rank = data.groupby('Community Board').count()['Unique Key']"
   ]
  },
  {
   "cell_type": "code",
   "execution_count": 10,
   "metadata": {
    "collapsed": false
   },
   "outputs": [
    {
     "name": "stderr",
     "output_type": "stream",
     "text": [
      "/opt/rh/anaconda/root/envs/PUI2016_Python2/lib/python2.7/site-packages/ipykernel/__main__.py:2: FutureWarning: sort is deprecated, use sort_values(inplace=True) for INPLACE sorting\n",
      "  from ipykernel import kernelapp as app\n"
     ]
    }
   ],
   "source": [
    "rank2 = rank.copy()\n",
    "rank2.sort(ascending=False)"
   ]
  },
  {
   "cell_type": "code",
   "execution_count": 11,
   "metadata": {
    "collapsed": false
   },
   "outputs": [
    {
     "name": "stdout",
     "output_type": "stream",
     "text": [
      "Community Board\n",
      "0 Unspecified                1109446\n",
      "12 MANHATTAN                  268053\n",
      "Unspecified BROOKLYN          257844\n",
      "12 QUEENS                     229383\n",
      "Unspecified MANHATTAN         229164\n",
      "Unspecified QUEENS            218268\n",
      "Unspecified BRONX             199775\n",
      "03 BROOKLYN                   197306\n",
      "07 QUEENS                     195961\n",
      "17 BROOKLYN                   191720\n",
      "05 BROOKLYN                   189765\n",
      "14 BROOKLYN                   187794\n",
      "07 BRONX                      185729\n",
      "01 BROOKLYN                   185057\n",
      "01 STATEN ISLAND              182713\n",
      "04 BRONX                      181953\n",
      "01 QUEENS                     171484\n",
      "05 QUEENS                     168570\n",
      "12 BRONX                      168455\n",
      "13 QUEENS                     163851\n",
      "05 BRONX                      161078\n",
      "18 BROOKLYN                   156100\n",
      "07 MANHATTAN                  151419\n",
      "09 QUEENS                     151242\n",
      "12 BROOKLYN                   150320\n",
      "03 MANHATTAN                  150296\n",
      "08 MANHATTAN                  149076\n",
      "09 BRONX                      147457\n",
      "15 BROOKLYN                   146129\n",
      "05 MANHATTAN                  142028\n",
      "                              ...   \n",
      "10 BROOKLYN                   111837\n",
      "07 BROOKLYN                   107031\n",
      "06 MANHATTAN                  104249\n",
      "14 QUEENS                     103396\n",
      "11 QUEENS                     101908\n",
      "06 BRONX                       99547\n",
      "04 QUEENS                      99316\n",
      "10 BRONX                       95496\n",
      "11 MANHATTAN                   95413\n",
      "08 BRONX                       92733\n",
      "06 QUEENS                      90938\n",
      "16 BROOKLYN                    85467\n",
      "01 MANHATTAN                   77974\n",
      "03 BRONX                       75134\n",
      "01 BRONX                       74631\n",
      "13 BROOKLYN                    72362\n",
      "02 BRONX                       60257\n",
      "Unspecified STATEN ISLAND      50135\n",
      "83 QUEENS                       3072\n",
      "80 QUEENS                       2363\n",
      "81 QUEENS                       1420\n",
      "64 MANHATTAN                     904\n",
      "56 BROOKLYN                      834\n",
      "55 BROOKLYN                      767\n",
      "82 QUEENS                        725\n",
      "95 STATEN ISLAND                 531\n",
      "27 BRONX                         469\n",
      "28 BRONX                         433\n",
      "26 BRONX                         397\n",
      "84 QUEENS                        274\n",
      "Name: Unique Key, dtype: int64\n"
     ]
    }
   ],
   "source": [
    "#complaints made by each community district rank:\n",
    "print rank2"
   ]
  },
  {
   "cell_type": "code",
   "execution_count": 14,
   "metadata": {
    "collapsed": false
   },
   "outputs": [],
   "source": [
    "#load the other two dataframes\n",
    "\n",
    "df_pop = pd.read_csv(PUIdata + \"/Final_Demographics.csv\")\n",
    "df_infr = pd.read_csv(PUIdata + \"/ACS_Computer_Use_and_Internet_2014_1Year_Estimate.csv\")"
   ]
  },
  {
   "cell_type": "code",
   "execution_count": 15,
   "metadata": {
    "collapsed": false,
    "scrolled": false
   },
   "outputs": [],
   "source": [
    "#add a community district column in df_pop\n",
    "#keep the community district indicator consistent with original data format\n",
    "cd_id = df_pop['cd_id']\n",
    "bo = []\n",
    "num = []\n",
    "for i in range(0,len(cd_id)):\n",
    "    bo.append(cd_id[i][:2])\n",
    "    num.append(cd_id[i][2:])"
   ]
  },
  {
   "cell_type": "code",
   "execution_count": 16,
   "metadata": {
    "collapsed": false
   },
   "outputs": [],
   "source": [
    "bo = pd.DataFrame([num, bo]).T\n",
    "\n",
    "bo = bo.replace('BX','BRONX')\n",
    "bo = bo.replace('BK','BROOKLYN')\n",
    "bo = bo.replace('MN', 'MANHATTAN')\n",
    "bo = bo.replace('SI', 'STATEN ISLAND')\n",
    "bo = bo.replace('QN', 'QUEENS')"
   ]
  },
  {
   "cell_type": "code",
   "execution_count": 17,
   "metadata": {
    "collapsed": false
   },
   "outputs": [
    {
     "data": {
      "text/html": [
       "<div>\n",
       "<table border=\"1\" class=\"dataframe\">\n",
       "  <thead>\n",
       "    <tr style=\"text-align: right;\">\n",
       "      <th></th>\n",
       "      <th>community district</th>\n",
       "      <th>pop density</th>\n",
       "    </tr>\n",
       "  </thead>\n",
       "  <tbody>\n",
       "    <tr>\n",
       "      <th>0</th>\n",
       "      <td>08 BRONX</td>\n",
       "      <td>31229.95006</td>\n",
       "    </tr>\n",
       "    <tr>\n",
       "      <th>1</th>\n",
       "      <td>12 BRONX</td>\n",
       "      <td>19966.67839</td>\n",
       "    </tr>\n",
       "    <tr>\n",
       "      <th>2</th>\n",
       "      <td>10 BRONX</td>\n",
       "      <td>12913.81703</td>\n",
       "    </tr>\n",
       "    <tr>\n",
       "      <th>3</th>\n",
       "      <td>11 BRONX</td>\n",
       "      <td>35677.95453</td>\n",
       "    </tr>\n",
       "    <tr>\n",
       "      <th>4</th>\n",
       "      <td>03 BRONX</td>\n",
       "      <td>39405.79222</td>\n",
       "    </tr>\n",
       "  </tbody>\n",
       "</table>\n",
       "</div>"
      ],
      "text/plain": [
       "  community district  pop density\n",
       "0           08 BRONX  31229.95006\n",
       "1           12 BRONX  19966.67839\n",
       "2           10 BRONX  12913.81703\n",
       "3           11 BRONX  35677.95453\n",
       "4           03 BRONX  39405.79222"
      ]
     },
     "execution_count": 17,
     "metadata": {},
     "output_type": "execute_result"
    }
   ],
   "source": [
    "bo['community district'] = [bo[0][i]+ ' '+ bo[1][i] for i in range(0,59)]\n",
    "bo['pop density'] = df_pop['Population Density (per sq. mile)']\n",
    "bo.drop([0,1], axis = 1,inplace = True)\n",
    "bo.head()"
   ]
  },
  {
   "cell_type": "code",
   "execution_count": 18,
   "metadata": {
    "collapsed": false
   },
   "outputs": [],
   "source": [
    "rank3 = pd.DataFrame(rank2)\n",
    "rank3['community district'] = rank3.index"
   ]
  },
  {
   "cell_type": "code",
   "execution_count": 19,
   "metadata": {
    "collapsed": false
   },
   "outputs": [
    {
     "data": {
      "text/html": [
       "<div>\n",
       "<table border=\"1\" class=\"dataframe\">\n",
       "  <thead>\n",
       "    <tr style=\"text-align: right;\">\n",
       "      <th></th>\n",
       "      <th>Unique Key</th>\n",
       "      <th>community district</th>\n",
       "      <th>pop density</th>\n",
       "    </tr>\n",
       "  </thead>\n",
       "  <tbody>\n",
       "    <tr>\n",
       "      <th>0</th>\n",
       "      <td>268053</td>\n",
       "      <td>12 MANHATTAN</td>\n",
       "      <td>75217.43287</td>\n",
       "    </tr>\n",
       "    <tr>\n",
       "      <th>1</th>\n",
       "      <td>229383</td>\n",
       "      <td>12 QUEENS</td>\n",
       "      <td>27089.67720</td>\n",
       "    </tr>\n",
       "    <tr>\n",
       "      <th>2</th>\n",
       "      <td>197306</td>\n",
       "      <td>03 BROOKLYN</td>\n",
       "      <td>58004.86816</td>\n",
       "    </tr>\n",
       "    <tr>\n",
       "      <th>3</th>\n",
       "      <td>195961</td>\n",
       "      <td>07 QUEENS</td>\n",
       "      <td>21836.66849</td>\n",
       "    </tr>\n",
       "    <tr>\n",
       "      <th>4</th>\n",
       "      <td>191720</td>\n",
       "      <td>17 BROOKLYN</td>\n",
       "      <td>44659.44461</td>\n",
       "    </tr>\n",
       "  </tbody>\n",
       "</table>\n",
       "</div>"
      ],
      "text/plain": [
       "   Unique Key community district  pop density\n",
       "0      268053       12 MANHATTAN  75217.43287\n",
       "1      229383          12 QUEENS  27089.67720\n",
       "2      197306        03 BROOKLYN  58004.86816\n",
       "3      195961          07 QUEENS  21836.66849\n",
       "4      191720        17 BROOKLYN  44659.44461"
      ]
     },
     "execution_count": 19,
     "metadata": {},
     "output_type": "execute_result"
    }
   ],
   "source": [
    "#merge 311 data with population data\n",
    "merge1 = pd.merge(rank3, bo)\n",
    "merge1.head()"
   ]
  },
  {
   "cell_type": "code",
   "execution_count": 20,
   "metadata": {
    "collapsed": false
   },
   "outputs": [],
   "source": [
    "# select needed columns in df_infr1\n",
    "df_infr1 = df_infr[['Qualifying Name', 'Households: With An Internet Subscription']]"
   ]
  },
  {
   "cell_type": "code",
   "execution_count": 21,
   "metadata": {
    "collapsed": false
   },
   "outputs": [
    {
     "name": "stderr",
     "output_type": "stream",
     "text": [
      "/opt/rh/anaconda/root/envs/PUI2016_Python2/lib/python2.7/site-packages/ipykernel/__main__.py:8: SettingWithCopyWarning: \n",
      "A value is trying to be set on a copy of a slice from a DataFrame.\n",
      "Try using .loc[row_indexer,col_indexer] = value instead\n",
      "\n",
      "See the caveats in the documentation: http://pandas.pydata.org/pandas-docs/stable/indexing.html#indexing-view-versus-copy\n",
      "/opt/rh/anaconda/root/envs/PUI2016_Python2/lib/python2.7/site-packages/ipykernel/__main__.py:9: SettingWithCopyWarning: \n",
      "A value is trying to be set on a copy of a slice from a DataFrame\n",
      "\n",
      "See the caveats in the documentation: http://pandas.pydata.org/pandas-docs/stable/indexing.html#indexing-view-versus-copy\n"
     ]
    }
   ],
   "source": [
    "# keep community district indicator consistent with 311 data\n",
    "infr_loc = []\n",
    "for i in range(0, len(df_infr1)):\n",
    "    infr_loc.append(df_infr1['Qualifying Name'][i].split('-')[1].split(' ')[-1] + ' ' + \n",
    "                    df_infr1['Qualifying Name'][i].split('-')[1].split(' ')[0].upper())\n",
    "\n",
    "# drop uncesssary column \n",
    "df_infr1['community district'] = infr_loc\n",
    "df_infr1.drop('Qualifying Name', axis = 1, inplace = True)"
   ]
  },
  {
   "cell_type": "code",
   "execution_count": 26,
   "metadata": {
    "collapsed": false
   },
   "outputs": [
    {
     "data": {
      "text/html": [
       "<div>\n",
       "<table border=\"1\" class=\"dataframe\">\n",
       "  <thead>\n",
       "    <tr style=\"text-align: right;\">\n",
       "      <th></th>\n",
       "      <th>Complaint number</th>\n",
       "      <th>community district</th>\n",
       "      <th>pop density</th>\n",
       "      <th>Households: With An Internet Subscription</th>\n",
       "    </tr>\n",
       "  </thead>\n",
       "  <tbody>\n",
       "    <tr>\n",
       "      <th>0</th>\n",
       "      <td>268053</td>\n",
       "      <td>12 MANHATTAN</td>\n",
       "      <td>75217.43287</td>\n",
       "      <td>56940</td>\n",
       "    </tr>\n",
       "    <tr>\n",
       "      <th>1</th>\n",
       "      <td>229383</td>\n",
       "      <td>12 QUEENS</td>\n",
       "      <td>27089.67720</td>\n",
       "      <td>53848</td>\n",
       "    </tr>\n",
       "    <tr>\n",
       "      <th>2</th>\n",
       "      <td>191720</td>\n",
       "      <td>17 BROOKLYN</td>\n",
       "      <td>44659.44461</td>\n",
       "      <td>35675</td>\n",
       "    </tr>\n",
       "    <tr>\n",
       "      <th>3</th>\n",
       "      <td>187794</td>\n",
       "      <td>14 BROOKLYN</td>\n",
       "      <td>62164.35980</td>\n",
       "      <td>45090</td>\n",
       "    </tr>\n",
       "    <tr>\n",
       "      <th>4</th>\n",
       "      <td>168455</td>\n",
       "      <td>12 BRONX</td>\n",
       "      <td>19966.67839</td>\n",
       "      <td>32243</td>\n",
       "    </tr>\n",
       "  </tbody>\n",
       "</table>\n",
       "</div>"
      ],
      "text/plain": [
       "   Complaint number community district  pop density  \\\n",
       "0            268053       12 MANHATTAN  75217.43287   \n",
       "1            229383          12 QUEENS  27089.67720   \n",
       "2            191720        17 BROOKLYN  44659.44461   \n",
       "3            187794        14 BROOKLYN  62164.35980   \n",
       "4            168455           12 BRONX  19966.67839   \n",
       "\n",
       "   Households: With An Internet Subscription  \n",
       "0                                      56940  \n",
       "1                                      53848  \n",
       "2                                      35675  \n",
       "3                                      45090  \n",
       "4                                      32243  "
      ]
     },
     "execution_count": 26,
     "metadata": {},
     "output_type": "execute_result"
    }
   ],
   "source": [
    "#data merge1 with df_infr1\n",
    "merge2 = pd.merge(merge1, df_infr1)\n",
    "merge2 = merge2.rename(columns = {'Unique Key': 'Complaint number'})\n",
    "merge2.head()"
   ]
  }
 ],
 "metadata": {
  "kernelspec": {
   "display_name": "PUI2016_Python2",
   "language": "python",
   "name": "pui2016_python2"
  },
  "language_info": {
   "codemirror_mode": {
    "name": "ipython",
    "version": 2
   },
   "file_extension": ".py",
   "mimetype": "text/x-python",
   "name": "python",
   "nbconvert_exporter": "python",
   "pygments_lexer": "ipython2",
   "version": "2.7.12"
  }
 },
 "nbformat": 4,
 "nbformat_minor": 0
}

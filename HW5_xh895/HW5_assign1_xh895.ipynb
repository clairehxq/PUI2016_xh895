{
 "cells": [
  {
   "cell_type": "code",
   "execution_count": 2,
   "metadata": {
    "collapsed": false
   },
   "outputs": [
    {
     "data": {
      "text/html": [
       "<div>\n",
       "<table border=\"1\" class=\"dataframe\">\n",
       "  <thead>\n",
       "    <tr style=\"text-align: right;\">\n",
       "      <th></th>\n",
       "      <th>tripduration</th>\n",
       "      <th>starttime</th>\n",
       "      <th>stoptime</th>\n",
       "      <th>start station id</th>\n",
       "      <th>start station name</th>\n",
       "      <th>start station latitude</th>\n",
       "      <th>start station longitude</th>\n",
       "      <th>end station id</th>\n",
       "      <th>end station name</th>\n",
       "      <th>end station latitude</th>\n",
       "      <th>end station longitude</th>\n",
       "      <th>bikeid</th>\n",
       "      <th>usertype</th>\n",
       "      <th>birth year</th>\n",
       "      <th>gender</th>\n",
       "    </tr>\n",
       "  </thead>\n",
       "  <tbody>\n",
       "    <tr>\n",
       "      <th>0</th>\n",
       "      <td>1470</td>\n",
       "      <td>6/1/2016 00:00:18</td>\n",
       "      <td>6/1/2016 00:24:48</td>\n",
       "      <td>380</td>\n",
       "      <td>W 4 St &amp; 7 Ave S</td>\n",
       "      <td>40.734011</td>\n",
       "      <td>-74.002939</td>\n",
       "      <td>3236</td>\n",
       "      <td>W 42 St &amp; Dyer Ave</td>\n",
       "      <td>40.758985</td>\n",
       "      <td>-73.993800</td>\n",
       "      <td>19859</td>\n",
       "      <td>Subscriber</td>\n",
       "      <td>1972.0</td>\n",
       "      <td>1</td>\n",
       "    </tr>\n",
       "    <tr>\n",
       "      <th>1</th>\n",
       "      <td>229</td>\n",
       "      <td>6/1/2016 00:00:20</td>\n",
       "      <td>6/1/2016 00:04:09</td>\n",
       "      <td>3092</td>\n",
       "      <td>Berry St &amp; N 8 St</td>\n",
       "      <td>40.719009</td>\n",
       "      <td>-73.958525</td>\n",
       "      <td>3103</td>\n",
       "      <td>N 11 St &amp; Wythe Ave</td>\n",
       "      <td>40.721533</td>\n",
       "      <td>-73.957824</td>\n",
       "      <td>16233</td>\n",
       "      <td>Subscriber</td>\n",
       "      <td>1967.0</td>\n",
       "      <td>1</td>\n",
       "    </tr>\n",
       "    <tr>\n",
       "      <th>2</th>\n",
       "      <td>344</td>\n",
       "      <td>6/1/2016 00:00:21</td>\n",
       "      <td>6/1/2016 00:06:06</td>\n",
       "      <td>449</td>\n",
       "      <td>W 52 St &amp; 9 Ave</td>\n",
       "      <td>40.764618</td>\n",
       "      <td>-73.987895</td>\n",
       "      <td>469</td>\n",
       "      <td>Broadway &amp; W 53 St</td>\n",
       "      <td>40.763441</td>\n",
       "      <td>-73.982681</td>\n",
       "      <td>22397</td>\n",
       "      <td>Subscriber</td>\n",
       "      <td>1989.0</td>\n",
       "      <td>1</td>\n",
       "    </tr>\n",
       "    <tr>\n",
       "      <th>3</th>\n",
       "      <td>1120</td>\n",
       "      <td>6/1/2016 00:00:28</td>\n",
       "      <td>6/1/2016 00:19:09</td>\n",
       "      <td>522</td>\n",
       "      <td>E 51 St &amp; Lexington Ave</td>\n",
       "      <td>40.757148</td>\n",
       "      <td>-73.972078</td>\n",
       "      <td>401</td>\n",
       "      <td>Allen St &amp; Rivington St</td>\n",
       "      <td>40.720196</td>\n",
       "      <td>-73.989978</td>\n",
       "      <td>16231</td>\n",
       "      <td>Subscriber</td>\n",
       "      <td>1991.0</td>\n",
       "      <td>1</td>\n",
       "    </tr>\n",
       "    <tr>\n",
       "      <th>4</th>\n",
       "      <td>229</td>\n",
       "      <td>6/1/2016 00:00:53</td>\n",
       "      <td>6/1/2016 00:04:42</td>\n",
       "      <td>335</td>\n",
       "      <td>Washington Pl &amp; Broadway</td>\n",
       "      <td>40.729039</td>\n",
       "      <td>-73.994046</td>\n",
       "      <td>285</td>\n",
       "      <td>Broadway &amp; E 14 St</td>\n",
       "      <td>40.734546</td>\n",
       "      <td>-73.990741</td>\n",
       "      <td>15400</td>\n",
       "      <td>Subscriber</td>\n",
       "      <td>1989.0</td>\n",
       "      <td>1</td>\n",
       "    </tr>\n",
       "  </tbody>\n",
       "</table>\n",
       "</div>"
      ],
      "text/plain": [
       "   tripduration          starttime           stoptime  start station id  \\\n",
       "0          1470  6/1/2016 00:00:18  6/1/2016 00:24:48               380   \n",
       "1           229  6/1/2016 00:00:20  6/1/2016 00:04:09              3092   \n",
       "2           344  6/1/2016 00:00:21  6/1/2016 00:06:06               449   \n",
       "3          1120  6/1/2016 00:00:28  6/1/2016 00:19:09               522   \n",
       "4           229  6/1/2016 00:00:53  6/1/2016 00:04:42               335   \n",
       "\n",
       "         start station name  start station latitude  start station longitude  \\\n",
       "0          W 4 St & 7 Ave S               40.734011               -74.002939   \n",
       "1         Berry St & N 8 St               40.719009               -73.958525   \n",
       "2           W 52 St & 9 Ave               40.764618               -73.987895   \n",
       "3   E 51 St & Lexington Ave               40.757148               -73.972078   \n",
       "4  Washington Pl & Broadway               40.729039               -73.994046   \n",
       "\n",
       "   end station id         end station name  end station latitude  \\\n",
       "0            3236       W 42 St & Dyer Ave             40.758985   \n",
       "1            3103      N 11 St & Wythe Ave             40.721533   \n",
       "2             469       Broadway & W 53 St             40.763441   \n",
       "3             401  Allen St & Rivington St             40.720196   \n",
       "4             285       Broadway & E 14 St             40.734546   \n",
       "\n",
       "   end station longitude  bikeid    usertype  birth year  gender  \n",
       "0             -73.993800   19859  Subscriber      1972.0       1  \n",
       "1             -73.957824   16233  Subscriber      1967.0       1  \n",
       "2             -73.982681   22397  Subscriber      1989.0       1  \n",
       "3             -73.989978   16231  Subscriber      1991.0       1  \n",
       "4             -73.990741   15400  Subscriber      1989.0       1  "
      ]
     },
     "execution_count": 2,
     "metadata": {},
     "output_type": "execute_result"
    }
   ],
   "source": [
    "#import data to workspace\n",
    "\n",
    "#set working environment packages\n",
    "from zipfile import ZipFile\n",
    "from StringIO import StringIO\n",
    "import urllib2\n",
    "import pandas as pd\n",
    "import numpy as np\n",
    "\n",
    "\n",
    "#opening file into this notebook\n",
    "r = urllib2.urlopen('https://s3.amazonaws.com/tripdata/201606-citibike-tripdata.zip').read()\n",
    "z = ZipFile(StringIO(r))\n",
    "\n",
    "citibikedata = z.open('201606-citibike-tripdata.csv')\n",
    "df = pd.read_csv(citibikedata)\n",
    "df.head()"
   ]
  },
  {
   "cell_type": "code",
   "execution_count": 3,
   "metadata": {
    "collapsed": false,
    "scrolled": true
   },
   "outputs": [
    {
     "data": {
      "text/plain": [
       "1265112"
      ]
     },
     "execution_count": 3,
     "metadata": {},
     "output_type": "execute_result"
    }
   ],
   "source": [
    "#drop columns that we don't need\n",
    "df1 = pd.DataFrame(df[df.columns[-2]])\n",
    "df1['age'] = 2016 - df['birth year']\n",
    "df1 = df1.dropna()\n",
    "len(df1)"
   ]
  },
  {
   "cell_type": "code",
   "execution_count": 4,
   "metadata": {
    "collapsed": false
   },
   "outputs": [
    {
     "data": {
      "text/html": [
       "<div>\n",
       "<table border=\"1\" class=\"dataframe\">\n",
       "  <thead>\n",
       "    <tr style=\"text-align: right;\">\n",
       "      <th></th>\n",
       "      <th>birth year</th>\n",
       "      <th>age</th>\n",
       "    </tr>\n",
       "  </thead>\n",
       "  <tbody>\n",
       "    <tr>\n",
       "      <th>0</th>\n",
       "      <td>1972.0</td>\n",
       "      <td>44.0</td>\n",
       "    </tr>\n",
       "    <tr>\n",
       "      <th>1</th>\n",
       "      <td>1967.0</td>\n",
       "      <td>49.0</td>\n",
       "    </tr>\n",
       "    <tr>\n",
       "      <th>2</th>\n",
       "      <td>1989.0</td>\n",
       "      <td>27.0</td>\n",
       "    </tr>\n",
       "    <tr>\n",
       "      <th>3</th>\n",
       "      <td>1991.0</td>\n",
       "      <td>25.0</td>\n",
       "    </tr>\n",
       "    <tr>\n",
       "      <th>4</th>\n",
       "      <td>1989.0</td>\n",
       "      <td>27.0</td>\n",
       "    </tr>\n",
       "  </tbody>\n",
       "</table>\n",
       "</div>"
      ],
      "text/plain": [
       "   birth year   age\n",
       "0      1972.0  44.0\n",
       "1      1967.0  49.0\n",
       "2      1989.0  27.0\n",
       "3      1991.0  25.0\n",
       "4      1989.0  27.0"
      ]
     },
     "execution_count": 4,
     "metadata": {},
     "output_type": "execute_result"
    }
   ],
   "source": [
    "df1.head()"
   ]
  },
  {
   "cell_type": "code",
   "execution_count": 5,
   "metadata": {
    "collapsed": false
   },
   "outputs": [],
   "source": [
    "#drop age bigger than 85\n",
    "df1 = df1[df1.age <= 85]"
   ]
  },
  {
   "cell_type": "code",
   "execution_count": 6,
   "metadata": {
    "collapsed": false
   },
   "outputs": [],
   "source": [
    "#calculate age mean and age deviation from citibikers\n",
    "age_mean = df1.age.mean()\n",
    "age_std = df1.age.std()"
   ]
  },
  {
   "cell_type": "code",
   "execution_count": 7,
   "metadata": {
    "collapsed": false
   },
   "outputs": [],
   "source": [
    "#count occurance number of each age\n",
    "from collections import Counter\n",
    "\n",
    "age_dist = pd.DataFrame(Counter(df1.age),index = ('age','number')).T\n",
    "#index = ('age','number')\n",
    "age_dist['number'] = age_dist['number']/len(df1)"
   ]
  },
  {
   "cell_type": "code",
   "execution_count": 8,
   "metadata": {
    "collapsed": false
   },
   "outputs": [
    {
     "name": "stdout",
     "output_type": "stream",
     "text": [
      "Populating the interactive namespace from numpy and matplotlib\n"
     ]
    },
    {
     "name": "stderr",
     "output_type": "stream",
     "text": [
      "WARNING: pylab import has clobbered these variables: ['plt']\n",
      "`%matplotlib` prevents importing * from pylab and numpy\n"
     ]
    },
    {
     "data": {
      "text/plain": [
       "<matplotlib.text.Text at 0x118c92290>"
      ]
     },
     "execution_count": 8,
     "metadata": {},
     "output_type": "execute_result"
    },
    {
     "data": {
      "image/png": "[encoded data removed]",
      "text/plain": [
       "<matplotlib.figure.Figure at 0x1169af1d0>"
      ]
     },
     "metadata": {},
     "output_type": "display_data"
    }
   ],
   "source": [
    "# now we plot the sample data against normal distribution of the same mean and standard deviation.\n",
    "import pylab as plt\n",
    "%pylab inline\n",
    "from scipy.stats import norm\n",
    "#create a x list with 1000 items to make the plot smooth.\n",
    "x = np.linspace(min(age_dist.index),max(age_dist.index),1000)\n",
    "#generating y according to normal distribution.\n",
    "y = norm.pdf(x, loc = age_mean, scale = age_std)\n",
    "\n",
    "#plot sample occurance and the gaussian distribution we generated.\n",
    "plt.figure(figsize = (10,10))\n",
    "plt.plot(age_dist['number'])\n",
    "plt.plot(x,y)\n",
    "plt.xlabel('age')\n",
    "plt.ylabel('occurance ratio')\n",
    "plt.title('citibikers age against normal distribution')"
   ]
  },
  {
   "cell_type": "code",
   "execution_count": null,
   "metadata": {
    "collapsed": false
   },
   "outputs": [],
   "source": [
    "# now we plot the sample data against lognormal distribution of the (same mean-20) and standard deviation.\n",
    "# because we want to test the shape of our sample, we modified the mean and standard deviation of our tested distribution.\n",
    "import scipy\n",
    "from scipy.stats import lognorm\n",
    "#create a x list with 1000 items to make the plot smooth.\n",
    "#y = lognorm.pdf(x, s = .5, loc = age_mean-20, scale = age_std)\n",
    "#x = np.linspace(min(age_dist.index),max(age_dist.index),1000)\n",
    "#generating y according to normal distribution.\n",
    "#y = norm.pdf(x, loc = age_mean, scale = age_std)\n",
    "\n",
    "shape, loc, scale = scipy.stats.lognorm.fit(df1.age, floc=0)\n",
    "plt.hist(df1.age, bins=15, normed=True, color='c', alpha=0.75)\n",
    "xmin = df1.age.min()\n",
    "xmax = df1.age.max()\n",
    "x = np.linspace(xmin, xmax, 1000)\n",
    "pdf = scipy.stats.lognorm.pdf(x, shape, scale=scale)\n",
    "plt.plot(x, pdf, 'k')\n",
    "plt.xlabel('age')\n",
    "plt.ylabel('occurance ratio')\n",
    "plt.title('citibikers age against lognormal distribution')\n",
    "\n"
   ]
  },
  {
   "cell_type": "markdown",
   "metadata": {},
   "source": [
    "From the plot above, we make guesses that age distribution follows normal distribution or a chi-squared distribution."
   ]
  },
  {
   "cell_type": "markdown",
   "metadata": {},
   "source": [
    "# 1. Normal distribution\n",
    "## a. ks test \n",
    "### Idea: citibikers age distribution doesn't draw from a normal distrubution\n",
    "### Null hypothesis: citibikers age distribution draws from a normal distrubution\n",
    "### Alternative hypothesis: citibikers age distribution draw from a normal distrubution\n",
    "\n",
    "significant level $\\alpha = 0.05$"
   ]
  },
  {
   "cell_type": "code",
   "execution_count": 10,
   "metadata": {
    "collapsed": false
   },
   "outputs": [
    {
     "name": "stdout",
     "output_type": "stream",
     "text": [
      "1264418\n",
      "0.00131618331346\n"
     ]
    }
   ],
   "source": [
    "#create a random normal distribution of the size of age distribution, with mean = age_mean, standard deviation = age_std\n",
    "import numpy as np\n",
    "import math\n",
    "\n",
    "norm_dist = np.random.normal(age_mean,age_std,len(df1))\n",
    "print(len(df1))\n",
    "D = 1.48 / math.sqrt(1264418)\n",
    "print D"
   ]
  },
  {
   "cell_type": "code",
   "execution_count": 11,
   "metadata": {
    "collapsed": false
   },
   "outputs": [
    {
     "data": {
      "text/plain": [
       "KstestResult(statistic=0.10926305300442851, pvalue=0.0)"
      ]
     },
     "execution_count": 11,
     "metadata": {},
     "output_type": "execute_result"
    }
   ],
   "source": [
    "#test the age distribution with normal distribution\n",
    "from scipy import stats\n",
    "stats.kstest(df1.age, 'norm', args=(age_mean, age_std))"
   ]
  },
  {
   "cell_type": "markdown",
   "metadata": {},
   "source": [
    "#### 1. using KS statistic: \n",
    "##### Since it's a two-tailed test, under $alpha = 0.05$, $c(alpha/2) = 1.48$\n",
    "#### sample size = 1264418\n",
    "#### $c(\\alpha/2)/ \\sqrt{sample size} = 1.48/ \\sqrt{1264418} = 0.0013161833134623662 < D$\n",
    "### Reject null hypothesis"
   ]
  },
  {
   "cell_type": "markdown",
   "metadata": {},
   "source": [
    "#### 2. using p-value: \n",
    "##### $pvalue = 0.0 <\\alpha/2 = 0.025$\n",
    "### Reject null hypothesis"
   ]
  },
  {
   "cell_type": "markdown",
   "metadata": {},
   "source": [
    "## b. AD test / if AD stats > critical value, reject null.\n",
    "### Idea: citibikers age distribution doesn't draw from a normal distrubution\n",
    "### Null hypothesis: citibikers age distribution draws from a normal distrubution\n",
    "### Alternative hypothesis: citibikers age distribution draw from a normal distrubution\n",
    "\n",
    "significant level $\\alpha = 0.05$"
   ]
  },
  {
   "cell_type": "code",
   "execution_count": 12,
   "metadata": {
    "collapsed": false,
    "scrolled": true
   },
   "outputs": [
    {
     "data": {
      "text/plain": [
       "AndersonResult(statistic=20290.215798143763, critical_values=array([ 0.576,  0.656,  0.787,  0.918,  1.092]), significance_level=array([ 15. ,  10. ,   5. ,   2.5,   1. ]))"
      ]
     },
     "execution_count": 12,
     "metadata": {},
     "output_type": "execute_result"
    }
   ],
   "source": [
    "stats.anderson(df1.age, dist='norm')"
   ]
  },
  {
   "cell_type": "markdown",
   "metadata": {},
   "source": [
    "#### While significance leve = 0.05, critical value = 0.787. $AS statistics = 20290.215798143763 >> critical value$\n",
    "### Reject null hypothesis"
   ]
  },
  {
   "cell_type": "markdown",
   "metadata": {},
   "source": [
    "# 2. Lognormal distribution\n",
    "## ks test\n",
    "### Idea: citibikers age distribution doesn't draw from a normal distrubution\n",
    "### Null hypothesis: citibikers age distribution draws from a normal distrubution\n",
    "### Alternative hypothesis: citibikers age distribution draw from a normal distrubution\n",
    "\n",
    "significant level $\\alpha = 0.05$"
   ]
  },
  {
   "cell_type": "code",
   "execution_count": 13,
   "metadata": {
    "collapsed": false
   },
   "outputs": [
    {
     "data": {
      "text/plain": [
       "KstestResult(statistic=0.53029205068124341, pvalue=0.0)"
      ]
     },
     "execution_count": 13,
     "metadata": {},
     "output_type": "execute_result"
    }
   ],
   "source": [
    "stats.kstest(df1.age,'lognorm', args=(scale, shape))"
   ]
  },
  {
   "cell_type": "markdown",
   "metadata": {},
   "source": [
    "#### $pvalue = 0.0 < \\alpha/2 = 0.025$\n",
    "### Reject null hypothesis."
   ]
  },
  {
   "cell_type": "markdown",
   "metadata": {},
   "source": [
    "# 3. Gumbel distribution\n",
    "## AD test\n",
    "### Idea: citibikers age distribution doesn't draw from a normal distrubution\n",
    "### Null hypothesis: citibikers age distribution draws from a normal distrubution\n",
    "### Alternative hypothesis: citibikers age distribution draw from a normal distrubution\n",
    "\n",
    "significant level $\\alpha = 0.05$"
   ]
  },
  {
   "cell_type": "code",
   "execution_count": 14,
   "metadata": {
    "collapsed": false,
    "scrolled": true
   },
   "outputs": [
    {
     "data": {
      "text/plain": [
       "AndersonResult(statistic=44586.512668676907, critical_values=array([ 0.474,  0.637,  0.757,  0.877,  1.038]), significance_level=array([ 25. ,  10. ,   5. ,   2.5,   1. ]))"
      ]
     },
     "execution_count": 14,
     "metadata": {},
     "output_type": "execute_result"
    }
   ],
   "source": [
    "stats.anderson(df1.age, 'gumbel')"
   ]
  },
  {
   "cell_type": "markdown",
   "metadata": {},
   "source": [
    "####  significance value = 0.05, critical value = 0.757. $statistic = 44586.512668676907 >> critical value$\n",
    "### Reject null hypothesis."
   ]
  },
  {
   "cell_type": "markdown",
   "metadata": {},
   "source": [
    "EXTRA:"
   ]
  },
  {
   "cell_type": "code",
   "execution_count": 15,
   "metadata": {
    "collapsed": false
   },
   "outputs": [],
   "source": [
    "path = 'https://feeds.citibikenyc.com/stations/stations.json'\n",
    "r2 = urllib2.urlopen(path).read()\n",
    "station = pd.read_json(r2)"
   ]
  },
  {
   "cell_type": "code",
   "execution_count": 16,
   "metadata": {
    "collapsed": false
   },
   "outputs": [
    {
     "data": {
      "text/plain": [
       "{u'altitude': u'',\n",
       " u'availableBikes': 0,\n",
       " u'availableDocks': 37,\n",
       " u'city': u'',\n",
       " u'id': 72,\n",
       " u'landMark': u'',\n",
       " u'lastCommunicationTime': u'2016-10-10 02:20:04 PM',\n",
       " u'latitude': 40.76727216,\n",
       " u'location': u'',\n",
       " u'longitude': -73.99392888,\n",
       " u'postalCode': u'',\n",
       " u'stAddress1': u'W 52 St & 11 Ave',\n",
       " u'stAddress2': u'',\n",
       " u'stationName': u'W 52 St & 11 Ave',\n",
       " u'statusKey': 1,\n",
       " u'statusValue': u'In Service',\n",
       " u'testStation': False,\n",
       " u'totalDocks': 39}"
      ]
     },
     "execution_count": 16,
     "metadata": {},
     "output_type": "execute_result"
    }
   ],
   "source": [
    "station.iloc[0][1]"
   ]
  },
  {
   "cell_type": "code",
   "execution_count": 17,
   "metadata": {
    "collapsed": false
   },
   "outputs": [
    {
     "data": {
      "text/plain": [
       "Index([u'tripduration', u'starttime', u'stoptime', u'start station id',\n",
       "       u'start station name', u'start station latitude',\n",
       "       u'start station longitude', u'end station id', u'end station name',\n",
       "       u'end station latitude', u'end station longitude', u'bikeid',\n",
       "       u'usertype', u'birth year', u'gender'],\n",
       "      dtype='object')"
      ]
     },
     "execution_count": 17,
     "metadata": {},
     "output_type": "execute_result"
    }
   ],
   "source": [
    "df.columns"
   ]
  },
  {
   "cell_type": "code",
   "execution_count": 18,
   "metadata": {
    "collapsed": false
   },
   "outputs": [],
   "source": [
    "#create column coordinate in format '(longitude, latitude)'\n",
    "\n",
    "df['coordinate'] = '(' + df['start station longitude'].astype(str) + ',' + df['start station latitude'].astype(str) + ')'\n"
   ]
  },
  {
   "cell_type": "markdown",
   "metadata": {},
   "source": [
    "All the above tests reject that the sample data draws from normal/lognormal/gumble distribution. \n",
    "According to the central limit theorem, it could result from the lack of sample data."
   ]
  }
 ],
 "metadata": {
  "anaconda-cloud": {},
  "kernelspec": {
   "display_name": "Python [Root]",
   "language": "python",
   "name": "Python [Root]"
  },
  "language_info": {
   "codemirror_mode": {
    "name": "ipython",
    "version": 2
   },
   "file_extension": ".py",
   "mimetype": "text/x-python",
   "name": "python",
   "nbconvert_exporter": "python",
   "pygments_lexer": "ipython2",
   "version": "2.7.12"
  }
 },
 "nbformat": 4,
 "nbformat_minor": 0
}

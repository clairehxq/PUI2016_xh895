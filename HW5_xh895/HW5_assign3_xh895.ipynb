{
 "cells": [
  {
   "cell_type": "markdown",
   "metadata": {},
   "source": [
    "1.\n",
    "Do diets help lose more fat than the exercise?\n",
    "Experimental setup: you have a test and a control sample."
   ]
  },
  {
   "cell_type": "markdown",
   "metadata": {},
   "source": [
    "control group: aged 25-30 with average age $a$; half male, half female; \n",
    "               on regular exercise for time $t$. Have a regular diet.\n",
    "               record weight loss.\n",
    "test group: aged 25-30 with average age $a$; half male, half female; \n",
    "            on the same diet for time $t$. No exercise.\n",
    "            calculate weight loss.\n",
    "            \n",
    "\n",
    "null hypothesis: exercise helps lose more weight than diet\n",
    "                 $W_t > W_c$\n",
    "\n",
    "alternative hypothesis: diet helps lose more weight than exercise\n",
    "                        $W_c >= W_t$\n",
    "                     \n",
    "significance level = 0.05"
   ]
  },
  {
   "cell_type": "markdown",
   "metadata": {},
   "source": [
    "2.\n",
    "Do American trust the president?\n",
    "\n",
    "POLL RESULTS: On May 16, 1994, Newsweek reported the results of a public opinion poll that asked: “From everything you know about Bill Clinton, does he have the honesty and integrity you expect in a president?” (p. 23). Poll surveyed 518 adults and 233, or 0.45 of them answered yes."
   ]
  },
  {
   "cell_type": "markdown",
   "metadata": {},
   "source": [
    "null hypothesis: Americans don't trust the president. $R_t$ = ratio that vote yes in the public opinion poll\n",
    "                 \n",
    "                 $R_t <= 0.5$\n",
    "alternative hypothesis: Americans trust the president. $R_t$ = ratio that vote yes in the public opinion poll\n",
    "                        \n",
    "                        $R_t > 0.5$\n",
    "                        \n",
    "significance level = 0.05"
   ]
  },
  {
   "cell_type": "markdown",
   "metadata": {},
   "source": [
    "3. \n",
    "Effectiveness of nicotine patches to quit smoking.\n",
    "\n",
    "Experimental setup: measure cessation rates for smokers randomly assigned to use a nicotine patch versus a placebo patch."
   ]
  },
  {
   "cell_type": "markdown",
   "metadata": {},
   "source": [
    "null hypothesis: nicotine patches don't help quitting smoking.\n",
    "                 $R_N <= R_P$ \n",
    "\n",
    "($R_N$ is the ratio of cessation rate in groups using nicotine patches. $R_P$ is the ratio of cessation rate in groups using placebo patches.)\n",
    "\n",
    "alternative hypothesis: nicotine patches help quitting smoking.\n",
    "                        $R_N > R_P$\n",
    "                        \n",
    "significance level = 0.05"
   ]
  },
  {
   "cell_type": "markdown",
   "metadata": {},
   "source": [
    "4.\n",
    "Quantify the danger of smoking for pregnant women.\n",
    "Experimemtal setup: measure IQ of children at ages 1, 2, 3, and 4 years of age."
   ]
  },
  {
   "cell_type": "markdown",
   "metadata": {},
   "source": [
    "null hypothesis: pregnant women's smoking doesn't affects children's IQ level. \n",
    "                 $R_s <= R_t$\n",
    "                 $R_s$ is the ratio of children below normal IQ level whose mom smoked during pregnancy.\n",
    "                 $R_t$ is the ratio of children below normal IQ level whose mom didn't smoke during pregnancy.\n",
    "\n",
    "alternative hypothesis:  pregnant women's smoking affects children's IQ level. \n",
    "                 $R_s > R_t$\n",
    "                 $R_s$ is the ratio of children below normal IQ level whose mom smoked during pregnancy.\n",
    "                 $R_t$ is the ratio of children below normal IQ level whose mom didn't smoke during pregnancy.\n",
    "       \n",
    "significance level = 0.05"
   ]
  }
 ],
 "metadata": {
  "kernelspec": {
   "display_name": "Python [Root]",
   "language": "python",
   "name": "Python [Root]"
  },
  "language_info": {
   "codemirror_mode": {
    "name": "ipython",
    "version": 2
   },
   "file_extension": ".py",
   "mimetype": "text/x-python",
   "name": "python",
   "nbconvert_exporter": "python",
   "pygments_lexer": "ipython2",
   "version": "2.7.12"
  }
 },
 "nbformat": 4,
 "nbformat_minor": 0
}
